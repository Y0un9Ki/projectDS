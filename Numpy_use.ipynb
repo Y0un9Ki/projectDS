{
 "cells": [
  {
   "cell_type": "code",
   "execution_count": null,
   "id": "7ca34efb-9cd8-4c6a-ba53-73075206e572",
   "metadata": {},
   "outputs": [],
   "source": [
    "## Numpy\n",
    "- 선형대수, 행렬 수치연산과 관련된 라이브러리"
   ]
  },
  {
   "cell_type": "code",
   "execution_count": null,
   "id": "dbe41f47-595f-4047-b78c-3d7d2adefa3e",
   "metadata": {},
   "outputs": [],
   "source": [
    "import numpy as np\n",
    "\n",
    "print(np.__version__)"
   ]
  },
  {
   "cell_type": "code",
   "execution_count": null,
   "id": "f80896fd-ec93-424b-9ea0-99f24de6954a",
   "metadata": {},
   "outputs": [],
   "source": [
    "num1=[1,2,3,4]\n",
    "num2=[3,4,5,6]\n",
    "\n",
    "num1+num2"
   ]
  },
  {
   "cell_type": "code",
   "execution_count": null,
   "id": "7d2ef41f-ee40-4b2f-ab93-61e5fffe6672",
   "metadata": {},
   "outputs": [],
   "source": [
    "arr1=np.array(num1)\n",
    "arr2=np.array(num2)"
   ]
  },
  {
   "cell_type": "code",
   "execution_count": null,
   "id": "245f39b7-0bdd-48e6-8928-9563c838d336",
   "metadata": {},
   "outputs": [],
   "source": [
    "arr1"
   ]
  },
  {
   "cell_type": "code",
   "execution_count": null,
   "id": "54ab19c5-a968-4181-b6a7-ca14edd91244",
   "metadata": {},
   "outputs": [],
   "source": [
    "arr2"
   ]
  },
  {
   "cell_type": "code",
   "execution_count": null,
   "id": "f64f8559-9541-47d4-afd7-8053c44a0775",
   "metadata": {},
   "outputs": [],
   "source": [
    "arr1+arr2"
   ]
  },
  {
   "cell_type": "code",
   "execution_count": null,
   "id": "d0524e01-b0b2-41f6-bfe9-17fad766ad38",
   "metadata": {},
   "outputs": [],
   "source": [
    "data1=[0,1,2,3,4,5]\n",
    "a1=np.array(data1)\n",
    "a1"
   ]
  },
  {
   "cell_type": "code",
   "execution_count": null,
   "id": "6519bf63-abb0-4ba2-ab03-5c13ac7cfa23",
   "metadata": {},
   "outputs": [],
   "source": [
    "a1.dtype"
   ]
  },
  {
   "cell_type": "code",
   "execution_count": null,
   "id": "43ad8641-014f-4c3e-a8d8-cecd1c3cfd47",
   "metadata": {},
   "outputs": [],
   "source": [
    "np.array([0.5,2,0.01,8]).dtype"
   ]
  },
  {
   "cell_type": "code",
   "execution_count": null,
   "id": "bcdb91a5-6028-4f2f-a5b5-cf8fabb00a67",
   "metadata": {},
   "outputs": [],
   "source": [
    "# Numpy 배열 생성\n",
    "- 1차원, 2차원, 3차원.. 배열 생성"
   ]
  },
  {
   "cell_type": "code",
   "execution_count": null,
   "id": "dab9125f-9719-4f77-b310-6542f7619f2f",
   "metadata": {},
   "outputs": [],
   "source": [
    "np.arange(0,10,2)"
   ]
  },
  {
   "cell_type": "code",
   "execution_count": null,
   "id": "1e677d35-a13f-4e99-868e-90e459bf2916",
   "metadata": {},
   "outputs": [],
   "source": [
    "np.arange(1,10)"
   ]
  },
  {
   "cell_type": "code",
   "execution_count": null,
   "id": "580a6858-8f66-4505-a9d9-7452f07bf7f0",
   "metadata": {},
   "outputs": [],
   "source": [
    "np.arange(10)"
   ]
  },
  {
   "cell_type": "code",
   "execution_count": null,
   "id": "456dc75c-5ac0-4e97-a4c2-9c301fb1a6ce",
   "metadata": {},
   "outputs": [],
   "source": [
    "np.arange(12).reshape(4,3) #==>reshape 메서드는 reshape(a,b) a행, b열 로 행렬의 형태로 만들어준다."
   ]
  },
  {
   "cell_type": "code",
   "execution_count": null,
   "id": "c1529e17-59e2-46ce-9fe8-5b0842538c4a",
   "metadata": {},
   "outputs": [],
   "source": [
    "b1=np.arange(12).reshape(4,3)\n",
    "b1.shape"
   ]
  },
  {
   "cell_type": "code",
   "execution_count": null,
   "id": "38658886-1e8f-42e6-a789-06ca19ceb956",
   "metadata": {},
   "outputs": [],
   "source": [
    "b2=np.arange(5)\n",
    "b2.shape"
   ]
  },
  {
   "cell_type": "code",
   "execution_count": null,
   "id": "339c0eeb-b7d8-44c3-9db4-e256a16371ab",
   "metadata": {},
   "outputs": [],
   "source": [
    "# 범위의 시작과 끝 정하기 배열 생성 linspace(a,b,c) a와 b사이에서 c개 만큼 배열을 만들어달라는 메서드\n",
    "np.linspace(0, 10, 5)"
   ]
  },
  {
   "cell_type": "code",
   "execution_count": null,
   "id": "63f70eb6-d733-4e24-9a03-29fb757c9c2b",
   "metadata": {},
   "outputs": [],
   "source": [
    "np.linspace(0, np.pi,20)"
   ]
  },
  {
   "cell_type": "code",
   "execution_count": null,
   "id": "2c89b6ec-b28f-4677-9fb3-f7d85138eb84",
   "metadata": {},
   "outputs": [],
   "source": [
    "np.zeros(10)"
   ]
  },
  {
   "cell_type": "code",
   "execution_count": null,
   "id": "a13b9e15-a08f-4031-b4c1-c0b1085161c8",
   "metadata": {},
   "outputs": [],
   "source": [
    "np.zeros((2,2))"
   ]
  },
  {
   "cell_type": "code",
   "execution_count": null,
   "id": "d19dfb27-57d0-4545-91c0-61052ff9d3b4",
   "metadata": {},
   "outputs": [],
   "source": [
    "np.ones(10)"
   ]
  },
  {
   "cell_type": "code",
   "execution_count": null,
   "id": "6f53d146-7884-45f3-b23f-25b6e2343da8",
   "metadata": {},
   "outputs": [],
   "source": [
    "np.ones((2,2))"
   ]
  },
  {
   "cell_type": "code",
   "execution_count": null,
   "id": "8fe755dc-5057-4042-954f-e0d62dbcb51a",
   "metadata": {},
   "outputs": [],
   "source": [
    "# 단위 행령 만들기\n",
    "arr_I=np.eye(3)\n",
    "arr_I"
   ]
  },
  {
   "cell_type": "code",
   "execution_count": null,
   "id": "8a2fe187-5ada-4a57-8419-467cce7798e0",
   "metadata": {},
   "outputs": [],
   "source": [
    "arr_I.shape"
   ]
  },
  {
   "cell_type": "code",
   "execution_count": null,
   "id": "e293ebde-424f-44fe-83e3-89e9b037f412",
   "metadata": {},
   "outputs": [],
   "source": [
    "np.array(['1.5','0.62'])"
   ]
  },
  {
   "cell_type": "code",
   "execution_count": null,
   "id": "a1667abd-aa68-46c5-b3b2-961281e43b60",
   "metadata": {},
   "outputs": [],
   "source": [
    "# astype() #pandas에서 사용가능\n",
    "arr=np.array(['1.5','0.62'])\n",
    "num_arr=arr.astype(float)\n",
    "num_arr.dtype"
   ]
  },
  {
   "cell_type": "code",
   "execution_count": null,
   "id": "9ae523c7-f7c1-4a26-a3d6-120b07b284c8",
   "metadata": {},
   "outputs": [],
   "source": [
    "num_f1=np.array([10,21,0.549,4.75,5.98])\n",
    "num_i1=num_f1.astype(int)\n",
    "num_i1"
   ]
  },
  {
   "cell_type": "code",
   "execution_count": null,
   "id": "6d7b3f51-9877-4dca-aa69-7a370dfd32aa",
   "metadata": {},
   "outputs": [],
   "source": [
    "num_f2=np.array([10,21,0.549,4.75,5.98])\n",
    "num_i2=num_f2.astype(float)\n",
    "num_i2"
   ]
  },
  {
   "cell_type": "code",
   "execution_count": null,
   "id": "cc92d29f-8ef4-42fe-aed4-88a9490bab8e",
   "metadata": {},
   "outputs": [],
   "source": [
    "# 난수 무작위로 숫자를 추출한다. random모듈을 사용해서 rand(),randin()를 사용해서 무작위로 숫자를 뽑는다. "
   ]
  },
  {
   "cell_type": "code",
   "execution_count": null,
   "id": "d2a03dfa-08fe-4695-893c-86785cdc1cc2",
   "metadata": {},
   "outputs": [],
   "source": [
    "np.random.rand(2,3) # ==> 난수를 뽑아 2*3행렬로 만들어준다. ==>파이썬에서 random과 같이 rand()는 0과1사이에서 기본적으로 난수를 뽑아준다."
   ]
  },
  {
   "cell_type": "code",
   "execution_count": null,
   "id": "f6c3a299-7197-4859-af87-cfdaa8b28530",
   "metadata": {},
   "outputs": [],
   "source": [
    "np.random.randint(10,size=(3,4)) # ==> 정수 10아래에서 3*4행렬의 사이즈로 난수로 행렬을 만들어준다. randint(a,b,size)는 a와b 사이에 정수를 size에 들어온 행렬의 크기만큼 난수로 뽑아준다."
   ]
  },
  {
   "cell_type": "code",
   "execution_count": null,
   "id": "de38ad1f-eff9-46bf-bd6e-c39c39fd6b8a",
   "metadata": {},
   "outputs": [],
   "source": [
    "np.random.randint(1,100,10)"
   ]
  },
  {
   "cell_type": "code",
   "execution_count": null,
   "id": "810b7504-cc60-41f6-8489-b85e4b7b4ada",
   "metadata": {},
   "outputs": [],
   "source": [
    "np.random.randint(46,size=6)"
   ]
  },
  {
   "cell_type": "code",
   "execution_count": null,
   "id": "8e18c38d-90ff-4237-8d6e-c2c1e87f84bf",
   "metadata": {},
   "outputs": [],
   "source": [
    "# 로또 6자리 숫자를 랜덤으로 뽑는 알고리즘\n",
    "result_s=set()\n",
    "while len(result_s)<6:\n",
    "    number=random.randint(1,47)\n",
    "    result_s.add(number)\n",
    "    #print(result)\n",
    "print(result_s)\n",
    "    "
   ]
  },
  {
   "cell_type": "code",
   "execution_count": null,
   "id": "2edbe232-5119-48e2-9cb5-eab880cebcc8",
   "metadata": {},
   "outputs": [],
   "source": [
    "number=random.randint(1,47)\n",
    "print(number)"
   ]
  },
  {
   "cell_type": "code",
   "execution_count": null,
   "id": "ec0252fc-554d-468e-a17a-dca7140ebadb",
   "metadata": {},
   "outputs": [],
   "source": [
    "arr1 = np.array([10,20,30,40])\n",
    "arr2 = np.array([1,2,3,4])\n",
    "\n",
    "print(arr1+arr2)\n",
    "print(arr1-arr2)\n",
    "print(arr1*arr2)\n",
    "print(arr1/arr2)"
   ]
  },
  {
   "cell_type": "code",
   "execution_count": null,
   "id": "831e8b9e-2337-462e-b606-3f70f673d600",
   "metadata": {},
   "outputs": [],
   "source": [
    "#비교연산"
   ]
  },
  {
   "cell_type": "code",
   "execution_count": null,
   "id": "ca7a44f9-f363-4758-aff0-98c7525df860",
   "metadata": {},
   "outputs": [],
   "source": [
    "arr1>20"
   ]
  },
  {
   "cell_type": "code",
   "execution_count": null,
   "id": "5357bc83-c924-4f65-9ef1-30010decf96e",
   "metadata": {},
   "outputs": [],
   "source": [
    "## 통계 연산\n",
    "- Numpy , 합, 평균, 표준편차, 분산, 최솟값, 최댓값, 누적합,누적 곱 메서드가 존재한다.\n",
    "  + 기술통계량 (Descriptive Statistics) : 현재 데이터 상태를 표현(=묘사 , Desdcribe)한다.\n",
    "- 통계 : 평균이 전부다!!!\n",
    "  +모수 통계\n",
    "  +비모수 통계\n",
    "  +베이지안 통계"
   ]
  },
  {
   "cell_type": "code",
   "execution_count": 250,
   "id": "8ddc3b32-bfc5-4266-b2f7-de5b022cb47b",
   "metadata": {},
   "outputs": [
    {
     "data": {
      "text/plain": [
       "array([0, 1, 2, 3, 4])"
      ]
     },
     "execution_count": 250,
     "metadata": {},
     "output_type": "execute_result"
    }
   ],
   "source": [
    "arr3=np.arange(5)\n",
    "arr3"
   ]
  },
  {
   "cell_type": "code",
   "execution_count": 253,
   "id": "5e9c26bb-0365-4336-be3a-bc94e5133ee0",
   "metadata": {},
   "outputs": [
    {
     "data": {
      "text/plain": [
       "10"
      ]
     },
     "execution_count": 253,
     "metadata": {},
     "output_type": "execute_result"
    }
   ],
   "source": [
    "arr3.sum()"
   ]
  },
  {
   "cell_type": "code",
   "execution_count": 254,
   "id": "bfa83ff7-4ecb-4e21-9a11-f5bd719e2cbd",
   "metadata": {},
   "outputs": [
    {
     "data": {
      "text/plain": [
       "2.0"
      ]
     },
     "execution_count": 254,
     "metadata": {},
     "output_type": "execute_result"
    }
   ],
   "source": [
    "arr3.mean()"
   ]
  },
  {
   "cell_type": "code",
   "execution_count": 255,
   "id": "aac829a9-25ec-43e1-89f9-0b03c3eb3cd9",
   "metadata": {},
   "outputs": [
    {
     "data": {
      "text/plain": [
       "1.4142135623730951"
      ]
     },
     "execution_count": 255,
     "metadata": {},
     "output_type": "execute_result"
    }
   ],
   "source": [
    "arr3.std() # 표준편차(standard deviation)는 분산을 제곱근한 것이다. 제곱해서 값이 뻥튀기 된 분산을 제곱근해서 다시 원래 크기로 만들어준다."
   ]
  },
  {
   "cell_type": "code",
   "execution_count": 256,
   "id": "e7fcc3ec-0e91-4620-963e-b090f63b749a",
   "metadata": {},
   "outputs": [
    {
     "data": {
      "text/plain": [
       "2.0"
      ]
     },
     "execution_count": 256,
     "metadata": {},
     "output_type": "execute_result"
    }
   ],
   "source": [
    "arr3.var() # 분산(variance)은 관측값에서 평균을 뺀 값을 제곱하고, 그것을 모두 더한 후 전체 수로 나눠서 구한다. 즉, 차이값의 제곱의 평균이다. \n",
    "           # 관측값에서 평균을 뺀 값인 편차를 모두 더하면 0이 나오므로 편차의 부호를 없애기 위해 제곱해서 더한다. 또한 분산은 표준편차의 제곱이다."
   ]
  },
  {
   "cell_type": "code",
   "execution_count": null,
   "id": "6bbe5c6f-5f8c-48b3-ac65-2e3256b2eb8a",
   "metadata": {},
   "outputs": [],
   "source": [
    "## 누적합과 누적곱\n",
    " - cumsum() : 누적합\n",
    " - cumprod() : 누적곱"
   ]
  },
  {
   "cell_type": "code",
   "execution_count": 257,
   "id": "ae7de1b7-e07b-4730-9a2f-89171b73b3cf",
   "metadata": {},
   "outputs": [
    {
     "data": {
      "text/plain": [
       "array([1, 2, 3, 4])"
      ]
     },
     "execution_count": 257,
     "metadata": {},
     "output_type": "execute_result"
    }
   ],
   "source": [
    "arr4 = np.arange(1,5)\n",
    "arr4"
   ]
  },
  {
   "cell_type": "code",
   "execution_count": 259,
   "id": "225297b5-939a-469c-aaec-e13b35a1f23f",
   "metadata": {},
   "outputs": [
    {
     "data": {
      "text/plain": [
       "array([ 1,  3,  6, 10])"
      ]
     },
     "execution_count": 259,
     "metadata": {},
     "output_type": "execute_result"
    }
   ],
   "source": [
    "arr4.cumsum() # 누적합"
   ]
  },
  {
   "cell_type": "code",
   "execution_count": 260,
   "id": "bc282ef0-6b08-434a-8f74-2cbd8264bab7",
   "metadata": {},
   "outputs": [
    {
     "data": {
      "text/plain": [
       "array([ 1,  2,  6, 24])"
      ]
     },
     "execution_count": 260,
     "metadata": {},
     "output_type": "execute_result"
    }
   ],
   "source": [
    "arr4.cumprod() # 누적곱"
   ]
  },
  {
   "cell_type": "code",
   "execution_count": null,
   "id": "b26819e2-dbbb-4bac-853c-8d2ec2451b3f",
   "metadata": {},
   "outputs": [],
   "source": [
    "## 행렬연산\n",
    " - 선형 대수(Linear Algebra)를 위한 2차원 배열 연산도 지원"
   ]
  },
  {
   "cell_type": "code",
   "execution_count": 261,
   "id": "44907783-6aa3-4213-b851-f160135c3f04",
   "metadata": {},
   "outputs": [
    {
     "data": {
      "text/plain": [
       "array([[0, 1],\n",
       "       [2, 3]])"
      ]
     },
     "execution_count": 261,
     "metadata": {},
     "output_type": "execute_result"
    }
   ],
   "source": [
    "A = np.array([0,1,2,3]).reshape(2,2)\n",
    "A"
   ]
  },
  {
   "cell_type": "code",
   "execution_count": 262,
   "id": "033226a1-a697-42fd-8a7c-c3fd478ba099",
   "metadata": {},
   "outputs": [
    {
     "data": {
      "text/plain": [
       "array([[3, 2],\n",
       "       [1, 0]])"
      ]
     },
     "execution_count": 262,
     "metadata": {},
     "output_type": "execute_result"
    }
   ],
   "source": [
    "B = np.array([3,2,1,0]).reshape(2,2)\n",
    "B"
   ]
  },
  {
   "cell_type": "code",
   "execution_count": 263,
   "id": "9c0790f9-6dde-4f7c-8e85-3642c458a02b",
   "metadata": {},
   "outputs": [
    {
     "data": {
      "text/plain": [
       "array([[1, 0],\n",
       "       [9, 4]])"
      ]
     },
     "execution_count": 263,
     "metadata": {},
     "output_type": "execute_result"
    }
   ],
   "source": [
    "A.dot(B) # ==> 행렬의 내적"
   ]
  },
  {
   "cell_type": "code",
   "execution_count": 264,
   "id": "cd6d2cde-4658-4ea4-907f-092bc75a1138",
   "metadata": {},
   "outputs": [
    {
     "data": {
      "text/plain": [
       "array([[1, 0],\n",
       "       [9, 4]])"
      ]
     },
     "execution_count": 264,
     "metadata": {},
     "output_type": "execute_result"
    }
   ],
   "source": [
    "np.dot(A,B) # ==> 행렬의 내적"
   ]
  },
  {
   "cell_type": "code",
   "execution_count": 265,
   "id": "144ffd0c-987f-4bd7-a932-cb2296c2a6d3",
   "metadata": {},
   "outputs": [
    {
     "data": {
      "text/plain": [
       "array([[0, 2],\n",
       "       [1, 3]])"
      ]
     },
     "execution_count": 265,
     "metadata": {},
     "output_type": "execute_result"
    }
   ],
   "source": [
    "A.transpose() # ==> 전치행렬 구하는법(행과 열을 바꾸는 행렬이 전치행렬이다.)"
   ]
  },
  {
   "cell_type": "code",
   "execution_count": 267,
   "id": "8136cc4e-27a1-4f7c-99d2-641caddb557b",
   "metadata": {},
   "outputs": [
    {
     "data": {
      "text/plain": [
       "array([[-1.5,  0.5],\n",
       "       [ 1. ,  0. ]])"
      ]
     },
     "execution_count": 267,
     "metadata": {},
     "output_type": "execute_result"
    }
   ],
   "source": [
    "np.linalg.inv(A) # ==> 역행렬을 구하는법"
   ]
  },
  {
   "cell_type": "code",
   "execution_count": null,
   "id": "04d2efef-3213-4139-bf73-5bc9128b70c8",
   "metadata": {},
   "outputs": [],
   "source": [
    "## 배열의 인덱싱과 슬라이싱\n",
    " - string,list,tuple과 동일한 방법으로 접근"
   ]
  },
  {
   "cell_type": "code",
   "execution_count": 275,
   "id": "71d4805b-fa99-40ef-b5cf-c006de5bfe91",
   "metadata": {},
   "outputs": [
    {
     "data": {
      "text/plain": [
       "array([ 0, 10, 20, 30, 40, 50])"
      ]
     },
     "execution_count": 275,
     "metadata": {},
     "output_type": "execute_result"
    }
   ],
   "source": [
    "a1=np.array([0,10,20,30,40,50])\n",
    "a1"
   ]
  },
  {
   "cell_type": "code",
   "execution_count": 270,
   "id": "7e4d472b-d9c8-4f13-aa01-959ac3cab04a",
   "metadata": {},
   "outputs": [
    {
     "data": {
      "text/plain": [
       "50"
      ]
     },
     "execution_count": 270,
     "metadata": {},
     "output_type": "execute_result"
    }
   ],
   "source": [
    "a1[5] # ==> 파이썬의 인덱싱방법과 비슷하다."
   ]
  },
  {
   "cell_type": "code",
   "execution_count": 271,
   "id": "322c14ba-6496-45ab-b90e-fc4018ef67c7",
   "metadata": {},
   "outputs": [
    {
     "data": {
      "text/plain": [
       "array([ 0, 10, 20, 30, 40, 60])"
      ]
     },
     "execution_count": 271,
     "metadata": {},
     "output_type": "execute_result"
    }
   ],
   "source": [
    "a1[5]=60\n",
    "a1"
   ]
  },
  {
   "cell_type": "code",
   "execution_count": 276,
   "id": "9e4599df-8abb-4279-b2f4-890296f5d3d6",
   "metadata": {},
   "outputs": [
    {
     "data": {
      "text/plain": [
       "array([ 0, 20, 40])"
      ]
     },
     "execution_count": 276,
     "metadata": {},
     "output_type": "execute_result"
    }
   ],
   "source": [
    "# 리스트를 통해서 추출 인덱싱하는 방법에서 안에 또 리스트를 넣어서 리스트로 결과값을 뽑아냈다.\n",
    "a1[[0,2,4]]"
   ]
  },
  {
   "cell_type": "code",
   "execution_count": 277,
   "id": "13cef930-4695-495a-bcb9-00a52e9d2e9d",
   "metadata": {},
   "outputs": [
    {
     "data": {
      "text/plain": [
       "array([[10, 20, 30],\n",
       "       [40, 50, 60],\n",
       "       [70, 80, 90]])"
      ]
     },
     "execution_count": 277,
     "metadata": {},
     "output_type": "execute_result"
    }
   ],
   "source": [
    "a2=np.arange(10,100,10).reshape(3,3)\n",
    "a2"
   ]
  },
  {
   "cell_type": "code",
   "execution_count": 279,
   "id": "839b1cae-b2f4-469a-b761-42d935837d54",
   "metadata": {},
   "outputs": [
    {
     "data": {
      "text/plain": [
       "90"
      ]
     },
     "execution_count": 279,
     "metadata": {},
     "output_type": "execute_result"
    }
   ],
   "source": [
    "a2[2,2]"
   ]
  },
  {
   "cell_type": "code",
   "execution_count": 281,
   "id": "eead0208-1f4a-4034-b3ed-fe8ab132a816",
   "metadata": {},
   "outputs": [
    {
     "data": {
      "text/plain": [
       "array([[10, 20, 30],\n",
       "       [40, 50, 60],\n",
       "       [70, 80, 95]])"
      ]
     },
     "execution_count": 281,
     "metadata": {},
     "output_type": "execute_result"
    }
   ],
   "source": [
    "# 90을 95로 변경\n",
    "a2[2,2]=95\n",
    "a2"
   ]
  },
  {
   "cell_type": "code",
   "execution_count": 282,
   "id": "321d3aed-c300-410a-8b7b-a56382ae55dd",
   "metadata": {},
   "outputs": [
    {
     "data": {
      "text/plain": [
       "array([10, 20, 30])"
      ]
     },
     "execution_count": 282,
     "metadata": {},
     "output_type": "execute_result"
    }
   ],
   "source": [
    "a2[0]"
   ]
  },
  {
   "cell_type": "code",
   "execution_count": 284,
   "id": "ecd83df7-b7d0-47af-ad16-904f20c52194",
   "metadata": {},
   "outputs": [
    {
     "data": {
      "text/plain": [
       "array([[ 1,  2,  3],\n",
       "       [40, 50, 60],\n",
       "       [70, 80, 95]])"
      ]
     },
     "execution_count": 284,
     "metadata": {},
     "output_type": "execute_result"
    }
   ],
   "source": [
    "a2[0]=[1,2,3] # ==> 조금 유연한 파이썬의 문법구조에 의해서 가능한것\n",
    "a2"
   ]
  },
  {
   "cell_type": "code",
   "execution_count": 285,
   "id": "d8bc9068-87a2-47d8-a2cb-d878656b66f4",
   "metadata": {},
   "outputs": [
    {
     "data": {
      "text/plain": [
       "array([[ 4,  5,  6],\n",
       "       [40, 50, 60],\n",
       "       [70, 80, 95]])"
      ]
     },
     "execution_count": 285,
     "metadata": {},
     "output_type": "execute_result"
    }
   ],
   "source": [
    "a2[0]=np.array([4,5,6]) # ==> 이것이 정석이다.\n",
    "a2"
   ]
  },
  {
   "cell_type": "code",
   "execution_count": 286,
   "id": "b7eb5841-0852-4f50-bc22-b33cb8c725b7",
   "metadata": {},
   "outputs": [
    {
     "ename": "ValueError",
     "evalue": "could not broadcast input array from shape (4,) into shape (3,)",
     "output_type": "error",
     "traceback": [
      "\u001b[1;31m---------------------------------------------------------------------------\u001b[0m",
      "\u001b[1;31mValueError\u001b[0m                                Traceback (most recent call last)",
      "Cell \u001b[1;32mIn[286], line 1\u001b[0m\n\u001b[1;32m----> 1\u001b[0m \u001b[43ma2\u001b[49m\u001b[43m[\u001b[49m\u001b[38;5;241;43m0\u001b[39;49m\u001b[43m]\u001b[49m\u001b[38;5;241m=\u001b[39mnp\u001b[38;5;241m.\u001b[39marray([\u001b[38;5;241m4\u001b[39m,\u001b[38;5;241m5\u001b[39m,\u001b[38;5;241m6\u001b[39m,\u001b[38;5;241m7\u001b[39m])\n\u001b[0;32m      2\u001b[0m a2\n",
      "\u001b[1;31mValueError\u001b[0m: could not broadcast input array from shape (4,) into shape (3,)"
     ]
    }
   ],
   "source": [
    "a2[0]=np.array([4,5,6,7]) # ==> a2의 0번째 행에는 열이 3개인데 4개의 열을 추가하려고 하니까 오류가 떳다.\n",
    "a2"
   ]
  },
  {
   "cell_type": "code",
   "execution_count": null,
   "id": "ed009877-320f-4894-bafe-be3214c47a00",
   "metadata": {},
   "outputs": [],
   "source": [
    "- 2차원 배열의 행과 열 위치 지정해서 원소 추출"
   ]
  },
  {
   "cell_type": "code",
   "execution_count": 287,
   "id": "c8bbe969-f670-4d1f-91c0-08c8700cd1cb",
   "metadata": {},
   "outputs": [
    {
     "data": {
      "text/plain": [
       "array([[ 4,  5,  6],\n",
       "       [40, 50, 60],\n",
       "       [70, 80, 95]])"
      ]
     },
     "execution_count": 287,
     "metadata": {},
     "output_type": "execute_result"
    }
   ],
   "source": [
    "a2"
   ]
  },
  {
   "cell_type": "code",
   "execution_count": 288,
   "id": "19bea59d-05d5-4a26-9c1d-bc496bd496c6",
   "metadata": {},
   "outputs": [
    {
     "data": {
      "text/plain": [
       "array([ 4, 80])"
      ]
     },
     "execution_count": 288,
     "metadata": {},
     "output_type": "execute_result"
    }
   ],
   "source": [
    "a2[[0,2],[0,1]] # ==> 잘생각해보기 바로 밑에 코드를 보고 이것은 배열이기 때문에 그렇다는데 잘 이해가 안됨"
   ]
  },
  {
   "cell_type": "code",
   "execution_count": 291,
   "id": "bff845f1-397f-4020-b064-3275b6c86eff",
   "metadata": {},
   "outputs": [
    {
     "data": {
      "text/plain": [
       "(4, 80)"
      ]
     },
     "execution_count": 291,
     "metadata": {},
     "output_type": "execute_result"
    }
   ],
   "source": [
    "a2[0,0] , a2[2,1] # ==> 이걸보고 위에거를 잘생각해보기"
   ]
  },
  {
   "cell_type": "code",
   "execution_count": 292,
   "id": "fa2ae932-ebbd-4f7e-8df9-c3fafd32e043",
   "metadata": {},
   "outputs": [
    {
     "data": {
      "text/plain": [
       "array([ 5, 60])"
      ]
     },
     "execution_count": 292,
     "metadata": {},
     "output_type": "execute_result"
    }
   ],
   "source": [
    "a2[[0,1],[1,2]] # ==> 바로밑에 코드와 같은 것이다."
   ]
  },
  {
   "cell_type": "code",
   "execution_count": 293,
   "id": "afa8ae82-2bc3-487a-a83e-d9967b8f4e38",
   "metadata": {},
   "outputs": [
    {
     "data": {
      "text/plain": [
       "(5, 60)"
      ]
     },
     "execution_count": 293,
     "metadata": {},
     "output_type": "execute_result"
    }
   ],
   "source": [
    "a2[0,1] , a2[1,2]"
   ]
  },
  {
   "cell_type": "code",
   "execution_count": 289,
   "id": "11e897c0-bfeb-43c9-a9f8-682520f4ef62",
   "metadata": {},
   "outputs": [
    {
     "data": {
      "text/plain": [
       "(6, 5)"
      ]
     },
     "execution_count": 289,
     "metadata": {},
     "output_type": "execute_result"
    }
   ],
   "source": [
    "a2[0,2] , a2[0,1]"
   ]
  },
  {
   "cell_type": "code",
   "execution_count": null,
   "id": "8fde267f-7d55-4bf0-9967-41444875e7de",
   "metadata": {},
   "outputs": [],
   "source": [
    "## 배열 조건문\n",
    "  -pandas의 문법과 유사하다."
   ]
  },
  {
   "cell_type": "code",
   "execution_count": 294,
   "id": "f51c0dea-5a0f-4d8b-b959-c3719aa733bc",
   "metadata": {},
   "outputs": [
    {
     "data": {
      "text/plain": [
       "array([1, 2, 3, 4, 5, 6])"
      ]
     },
     "execution_count": 294,
     "metadata": {},
     "output_type": "execute_result"
    }
   ],
   "source": [
    "a = np.array([1,2,3,4,5,6])\n",
    "a"
   ]
  },
  {
   "cell_type": "code",
   "execution_count": 295,
   "id": "7136a18b-2d5c-4c0d-b6d5-b6263448b1c4",
   "metadata": {},
   "outputs": [
    {
     "data": {
      "text/plain": [
       "array([4, 5, 6])"
      ]
     },
     "execution_count": 295,
     "metadata": {},
     "output_type": "execute_result"
    }
   ],
   "source": [
    "a[a>3]"
   ]
  },
  {
   "cell_type": "code",
   "execution_count": 296,
   "id": "f3600f8a-1efa-4553-a422-791a3622d535",
   "metadata": {},
   "outputs": [
    {
     "data": {
      "text/plain": [
       "array([False, False, False,  True,  True,  True])"
      ]
     },
     "execution_count": 296,
     "metadata": {},
     "output_type": "execute_result"
    }
   ],
   "source": [
    "a>3"
   ]
  },
  {
   "cell_type": "code",
   "execution_count": 297,
   "id": "3cf64483-b7a0-4f24-afbd-de60334da5cb",
   "metadata": {},
   "outputs": [
    {
     "data": {
      "text/plain": [
       "array([False,  True, False,  True, False,  True])"
      ]
     },
     "execution_count": 297,
     "metadata": {},
     "output_type": "execute_result"
    }
   ],
   "source": [
    "a % 2 ==0"
   ]
  },
  {
   "cell_type": "code",
   "execution_count": null,
   "id": "e59b6dab-265b-4143-9897-f2139919531c",
   "metadata": {},
   "outputs": [],
   "source": [
    "## 배열의 슬라이싱"
   ]
  },
  {
   "cell_type": "code",
   "execution_count": 298,
   "id": "0f30b89d-bb2c-45f0-9b0e-433f53da08b3",
   "metadata": {},
   "outputs": [
    {
     "data": {
      "text/plain": [
       "array([10, 20, 30])"
      ]
     },
     "execution_count": 298,
     "metadata": {},
     "output_type": "execute_result"
    }
   ],
   "source": [
    "b1=np.array([0,10,20,30,40,50])\n",
    "b1[1:4]"
   ]
  },
  {
   "cell_type": "code",
   "execution_count": 299,
   "id": "a58e197c-8ac1-4dc6-9d35-7cc56f1b5b0b",
   "metadata": {},
   "outputs": [
    {
     "data": {
      "text/plain": [
       "array([ 0, 10, 20])"
      ]
     },
     "execution_count": 299,
     "metadata": {},
     "output_type": "execute_result"
    }
   ],
   "source": [
    "b1[:3]"
   ]
  },
  {
   "cell_type": "code",
   "execution_count": 300,
   "id": "83414ab5-5637-4bb5-8ce3-d2e7b3f6313a",
   "metadata": {},
   "outputs": [
    {
     "data": {
      "text/plain": [
       "array([10, 20, 30, 40, 50])"
      ]
     },
     "execution_count": 300,
     "metadata": {},
     "output_type": "execute_result"
    }
   ],
   "source": [
    "b1[1:]"
   ]
  },
  {
   "cell_type": "code",
   "execution_count": 301,
   "id": "ddc356b8-219a-481c-81d7-5a62e9061180",
   "metadata": {},
   "outputs": [
    {
     "data": {
      "text/plain": [
       "array([ 0, 20, 40])"
      ]
     },
     "execution_count": 301,
     "metadata": {},
     "output_type": "execute_result"
    }
   ],
   "source": [
    "b1[::2]"
   ]
  },
  {
   "cell_type": "code",
   "execution_count": 302,
   "id": "3e8ddc6e-e1d5-4187-951d-8b91d21cdadb",
   "metadata": {},
   "outputs": [
    {
     "data": {
      "text/plain": [
       "array([ 0, 10, 25, 35, 45, 50])"
      ]
     },
     "execution_count": 302,
     "metadata": {},
     "output_type": "execute_result"
    }
   ],
   "source": [
    "b1[2:5]=np.array([25,35,45])\n",
    "b1"
   ]
  },
  {
   "cell_type": "code",
   "execution_count": 303,
   "id": "8892211a-0027-4cc3-a5cd-b5b8ff5e25ae",
   "metadata": {},
   "outputs": [
    {
     "data": {
      "text/plain": [
       "array([ 0, 10, 25, 60, 60, 60])"
      ]
     },
     "execution_count": 303,
     "metadata": {},
     "output_type": "execute_result"
    }
   ],
   "source": [
    "b1[3:6]=60\n",
    "b1"
   ]
  },
  {
   "cell_type": "code",
   "execution_count": 305,
   "id": "817f24b7-0cb5-4f5e-b78c-674e6d4aa0e2",
   "metadata": {},
   "outputs": [
    {
     "data": {
      "text/plain": [
       "array([[10, 20, 30],\n",
       "       [40, 50, 60],\n",
       "       [70, 80, 90]])"
      ]
     },
     "execution_count": 305,
     "metadata": {},
     "output_type": "execute_result"
    }
   ],
   "source": [
    "b2=np.arange(10,100,10).reshape(3,3)\n",
    "b2"
   ]
  },
  {
   "cell_type": "code",
   "execution_count": 306,
   "id": "9ed76e57-0aa2-41f5-b7e4-cf9363f7e2f0",
   "metadata": {},
   "outputs": [
    {
     "data": {
      "text/plain": [
       "array([[50, 60],\n",
       "       [80, 90]])"
      ]
     },
     "execution_count": 306,
     "metadata": {},
     "output_type": "execute_result"
    }
   ],
   "source": [
    "b2[1:3 , 1:3] # ==> b2[행_시작_위치:행_끝_위치 , 열_시작_위치,열_끝_위치]에 해당하는 경우이다."
   ]
  },
  {
   "cell_type": "code",
   "execution_count": 307,
   "id": "08a13a7c-1f95-47e3-a8a2-5f3bcfe3f571",
   "metadata": {},
   "outputs": [
    {
     "data": {
      "text/plain": [
       "array([[50, 60],\n",
       "       [80, 90]])"
      ]
     },
     "execution_count": 307,
     "metadata": {},
     "output_type": "execute_result"
    }
   ],
   "source": [
    "b2[1:, 1:]"
   ]
  },
  {
   "cell_type": "code",
   "execution_count": 308,
   "id": "5974e087-0c52-4fc1-965d-1e5a4ffc88d5",
   "metadata": {},
   "outputs": [
    {
     "data": {
      "text/plain": [
       "array([40, 50, 60])"
      ]
     },
     "execution_count": 308,
     "metadata": {},
     "output_type": "execute_result"
    }
   ],
   "source": [
    "b2[1]"
   ]
  },
  {
   "cell_type": "code",
   "execution_count": 312,
   "id": "19276b40-0697-42db-946c-ceb19a42098d",
   "metadata": {},
   "outputs": [
    {
     "data": {
      "text/plain": [
       "array([50, 60])"
      ]
     },
     "execution_count": 312,
     "metadata": {},
     "output_type": "execute_result"
    }
   ],
   "source": [
    "b2[1][1:3]"
   ]
  },
  {
   "cell_type": "code",
   "execution_count": null,
   "id": "7c4d5cbe-2631-44cb-a2d2-68fb878ad1a9",
   "metadata": {},
   "outputs": [],
   "source": [
    "## NumPy 조건문\n",
    " - np.where : 단일 조건문\n",
    " - np.select : 다중 조건문"
   ]
  },
  {
   "cell_type": "code",
   "execution_count": 313,
   "id": "0a5f3e0f-1149-4c1a-90f9-32db3385a84f",
   "metadata": {},
   "outputs": [
    {
     "data": {
      "text/plain": [
       "array([0, 1, 2, 3, 4, 5, 6, 7, 8, 9])"
      ]
     },
     "execution_count": 313,
     "metadata": {},
     "output_type": "execute_result"
    }
   ],
   "source": [
    "arr = np.arange(10)\n",
    "arr"
   ]
  },
  {
   "cell_type": "code",
   "execution_count": 318,
   "id": "53ca4002-523e-4784-948b-9cfe96b39c7b",
   "metadata": {},
   "outputs": [
    {
     "data": {
      "text/plain": [
       "array([ 0,  1,  2,  3,  4,  5, 60, 70, 80, 90])"
      ]
     },
     "execution_count": 318,
     "metadata": {},
     "output_type": "execute_result"
    }
   ],
   "source": [
    "# 0, 1, 2, 3, 4, 50, 60, 70, 80, 90\n",
    "np.where(arr>5 , arr*10, arr)"
   ]
  },
  {
   "cell_type": "code",
   "execution_count": null,
   "id": "53470402-dbaa-4ed8-89c1-6cdc2f5b4c71",
   "metadata": {},
   "outputs": [],
   "source": [
    "# 0, 1, 2, 3, 4, 50, 60, 70, 80, 90\n",
    "np.where(arr<5 , arr, arr*10)"
   ]
  },
  {
   "cell_type": "code",
   "execution_count": 321,
   "id": "94316c07-d739-418a-b8f8-4d5890f0aaca",
   "metadata": {},
   "outputs": [
    {
     "data": {
      "text/plain": [
       "array([0, 1, 2, 3, 4, 5, 6, 7, 8, 9])"
      ]
     },
     "execution_count": 321,
     "metadata": {},
     "output_type": "execute_result"
    }
   ],
   "source": [
    "arr = np.arange(10)\n",
    "arr"
   ]
  },
  {
   "cell_type": "code",
   "execution_count": 326,
   "id": "50bda634-9d68-479c-861c-125ccf67109f",
   "metadata": {},
   "outputs": [
    {
     "data": {
      "text/plain": [
       "array([100, 101,   2,   3,   4,   5,  12,  14,  16,  18])"
      ]
     },
     "execution_count": 326,
     "metadata": {},
     "output_type": "execute_result"
    }
   ],
   "source": [
    "# 100, 101, 2,,3, 4, 5, 12, 14, 16, 18\n",
    "# 2 미만 일 때는 100을 더해라\n",
    "# 5 초과 일 때는 곱하기 2를 해줘라\n",
    "\n",
    "#조건식과 대응되는 결과를 리스트로 만들기\n",
    "cond_list = [arr>5, arr<2]\n",
    "choice_list = [arr*2, arr+100]\n",
    "np.select(cond_list, choice_list, arr)"
   ]
  },
  {
   "cell_type": "code",
   "execution_count": null,
   "id": "451c337f-3775-4b73-aab1-1d4cabbd96ce",
   "metadata": {},
   "outputs": [],
   "source": []
  }
 ],
 "metadata": {
  "kernelspec": {
   "display_name": "Python 3 (ipykernel)",
   "language": "python",
   "name": "python3"
  },
  "language_info": {
   "codemirror_mode": {
    "name": "ipython",
    "version": 3
   },
   "file_extension": ".py",
   "mimetype": "text/x-python",
   "name": "python",
   "nbconvert_exporter": "python",
   "pygments_lexer": "ipython3",
   "version": "3.11.2"
  }
 },
 "nbformat": 4,
 "nbformat_minor": 5
}
